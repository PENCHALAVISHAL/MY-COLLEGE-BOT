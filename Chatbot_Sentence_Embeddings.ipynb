{
 "cells": [
  {
   "cell_type": "markdown",
   "metadata": {},
   "source": [
    "# College Chatbot with Sentence Embeddings\n",
    "\n",
    "This notebook implements a chatbot using sentence embeddings from sentence-transformers to improve intent detection accuracy."
   ]
  },
  {
   "cell_type": "code",
   "execution_count": null,
   "metadata": {},
   "outputs": [],
   "source": [
    "import nltk\n",
    "import random\n",
    "import json\n",
    "import pickle\n",
    "import numpy as np\n",
    "from nltk.stem import WordNetLemmatizer\n",
    "from sklearn.model_selection import train_test_split\n",
    "from sklearn.linear_model import LogisticRegression\n",
    "from sentence_transformers import SentenceTransformer\n",
    "from sklearn.metrics import accuracy_score\n",
    "import warnings\n",
    "warnings.filterwarnings('ignore')"
   ]
  },
  {
   "cell_type": "code",
   "execution_count": null,
   "metadata": {},
   "outputs": [],
   "source": [
    "# Load the intents data\n",
    "with open('dataset/intents1.json', 'r') as f:\n",
    "    intents = json.load(f)"
   ]
  },
  {
   "cell_type": "code",
   "execution_count": null,
   "metadata": {},
   "outputs": [],
   "source": [
    "# Initialize the sentence transformer model\n",
    "# Using paraphrase-MiniLM-L6-v2 as specified\n",
    "model_name = 'paraphrase-MiniLM-L6-v2'\n",
    "sentence_model = SentenceTransformer(model_name)\n",
    "print(f\"Loaded sentence transformer model: {model_name}\")"
   ]
  },
  {
   "cell_type": "code",
   "execution_count": null,
   "metadata": {},
   "outputs": [],
   "source": [
    "# Prepare training data\n",
    "X = []\n",
    "y = []\n",
    "\n",
    "for intent in intents['intents']:\n",
    "    for pattern in intent['patterns']:\n",
    "        X.append(pattern)\n",
    "        y.append(intent['tag'])\n",
    "\n",
    "print(f\"Total training examples: {len(X)}\")"
   ]
  },
  {
   "cell_type": "code",
   "execution_count": null,
   "metadata": {},
   "outputs": [],
   "source": [
    "# Split the data into training and testing sets\n",
    "X_train, X_test, y_train, y_test = train_test_split(X, y, test_size=0.2, random_state=42)\n",
    "print(f\"Training examples: {len(X_train)}\")\n",
    "print(f\"Testing examples: {len(X_test)}\")"
   ]
  },
  {
   "cell_type": "code",
   "execution_count": null,
   "metadata": {},
   "outputs": [],
   "source": [
    "# Generate embeddings for training data\n",
    "X_train_embeddings = sentence_model.encode(X_train)\n",
    "X_test_embeddings = sentence_model.encode(X_test)\n",
    "\n",
    "print(f\"Embedding dimension: {X_train_embeddings.shape[1]}\")"
   ]
  },
  {
   "cell_type": "code",
   "execution_count": null,
   "metadata": {},
   "outputs": [],
   "source": [
    "# Train a classifier on the embeddings\n",
    "classifier = LogisticRegression(max_iter=1000)\n",
    "classifier.fit(X_train_embeddings, y_train)\n",
    "\n",
    "# Evaluate the model\n",
    "y_pred = classifier.predict(X_test_embeddings)\n",
    "accuracy = accuracy_score(y_test, y_pred)\n",
    "print(f\"Model accuracy: {accuracy:.4f}\")"
   ]
  },
  {
   "cell_type": "code",
   "execution_count": null,
   "metadata": {},
   "outputs": [],
   "source": [
    "# Test with some paraphrases\n",
    "test_queries = [\n",
    "    \"tell me about fees\",\n",
    "    \"what are the charges?\",\n",
    "    \"how much does it cost to study here?\",\n",
    "    \"where is the college?\",\n",
    "    \"what's the location of your institution?\",\n",
    "    \"how can I find your campus?\"\n",
    "]\n",
    "\n",
    "# Generate embeddings for test queries\n",
    "test_embeddings = sentence_model.encode(test_queries)\n",
    "predictions = classifier.predict(test_embeddings)\n",
    "\n",
    "# Display results\n",
    "for query, prediction in zip(test_queries, predictions):\n",
    "    print(f\"Query: '{query}' → Predicted intent: '{prediction}'\")"
   ]
  },
  {
   "cell_type": "code",
   "execution_count": null,
   "metadata": {},
   "outputs": [],
   "source": [
    "# Generate embeddings for all training data for the final model\n",
    "all_embeddings = sentence_model.encode(X)\n",
    "\n",
    "# Train the final model on all data\n",
    "final_classifier = LogisticRegression(max_iter=1000)\n",
    "final_classifier.fit(all_embeddings, y)\n",
    "\n",
    "# Save the model and sentence transformer\n",
    "with open('model/chatbot_model_embeddings.pkl', 'wb') as f:\n",
    "    pickle.dump(final_classifier, f)\n",
    "\n",
    "# Save the sentence transformer model name\n",
    "with open('model/sentence_transformer_model.pkl', 'wb') as f:\n",
    "    pickle.dump(model_name, f)\n",
    "\n",
    "print(\"Model and sentence transformer saved successfully!\")"
   ]
  }
 ],
 "metadata": {
  "kernelspec": {
   "display_name": "Python 3",
   "language": "python",
   "name": "python3"
  },
  "language_info": {
   "codemirror_mode": {
    "name": "ipython",
    "version": 3
   },
   "file_extension": ".py",
   "mimetype": "text/x-python",
   "name": "python",
   "nbconvert_exporter": "python",
   "pygments_lexer": "ipython3",
   "version": "3.10.0"
  }
 },
 "nbformat": 4,
 "nbformat_minor": 4
}